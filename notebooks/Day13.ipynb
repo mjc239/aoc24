{
 "cells": [
  {
   "cell_type": "code",
   "execution_count": 1,
   "metadata": {},
   "outputs": [],
   "source": [
    "with open('../data/day13.txt') as f:\n",
    "    user_input = f.read()"
   ]
  },
  {
   "cell_type": "code",
   "execution_count": 2,
   "metadata": {},
   "outputs": [],
   "source": [
    "with open('../tests/data/test_day13.txt') as f:\n",
    "    test_input = f.read()"
   ]
  },
  {
   "cell_type": "code",
   "execution_count": 3,
   "metadata": {},
   "outputs": [],
   "source": [
    "def parse(user_input, addition=0):\n",
    "    entries = []\n",
    "    for entry in user_input.split('\\n\\n'):\n",
    "        entry_dict = {}\n",
    "        rows = entry.split('\\n')\n",
    "        entry_dict['Ax'] = int(rows[0].split(' ')[2][:-1].split('+')[1])\n",
    "        entry_dict['Ay'] = int(rows[0].split(' ')[3].split('+')[1])\n",
    "        entry_dict['Bx'] = int(rows[1].split(' ')[2][:-1].split('+')[1])\n",
    "        entry_dict['By'] = int(rows[1].split(' ')[3].split('+')[1])\n",
    "        entry_dict['X'] = int(rows[2].split(' ')[1][:-1].split('=')[1]) + addition\n",
    "        entry_dict['Y'] = int(rows[2].split(' ')[2].split('=')[1]) + addition\n",
    "\n",
    "        entries.append(entry_dict)\n",
    "    return entries"
   ]
  },
  {
   "cell_type": "code",
   "execution_count": 4,
   "metadata": {},
   "outputs": [],
   "source": [
    "parsed_test_input = parse(test_input)\n",
    "parsed_user_input = parse(user_input)"
   ]
  },
  {
   "cell_type": "code",
   "execution_count": 5,
   "metadata": {},
   "outputs": [
    {
     "data": {
      "text/plain": [
       "[{'Ax': 94, 'Ay': 34, 'Bx': 22, 'By': 67, 'X': 8400, 'Y': 5400},\n",
       " {'Ax': 26, 'Ay': 66, 'Bx': 67, 'By': 21, 'X': 12748, 'Y': 12176},\n",
       " {'Ax': 17, 'Ay': 86, 'Bx': 84, 'By': 37, 'X': 7870, 'Y': 6450},\n",
       " {'Ax': 69, 'Ay': 23, 'Bx': 27, 'By': 71, 'X': 18641, 'Y': 10279}]"
      ]
     },
     "execution_count": 5,
     "metadata": {},
     "output_type": "execute_result"
    }
   ],
   "source": [
    "parsed_test_input"
   ]
  },
  {
   "cell_type": "code",
   "execution_count": 6,
   "metadata": {},
   "outputs": [],
   "source": [
    "def entry_cost(entry):\n",
    "    det = entry['Ax'] * entry['By'] - entry['Ay'] * entry['Bx']\n",
    "    if det == 0:\n",
    "        if entry['X'] * entry['Ay'] != entry['Y'] * entry['Ax']:\n",
    "            return 0\n",
    "        else:\n",
    "            if entry['Ax'] > 3*entry['Bx']:\n",
    "                r = entry['X']/entry['Ax']\n",
    "                return 3*int(r) if r.is_integer() else 0\n",
    "            else:\n",
    "                r = entry['X']/entry['Bx']\n",
    "                return int(r) if r.is_integer() else 0\n",
    "    \n",
    "    alpha = (entry['X'] * entry['By'] - entry['Y'] * entry['Bx']) / det\n",
    "    beta = (entry['Ax'] * entry['Y'] - entry['Ay'] * entry['X']) / det\n",
    "\n",
    "    if alpha < 0 or beta < 0:\n",
    "        return 0\n",
    "    \n",
    "    if not alpha.is_integer() or not beta.is_integer():\n",
    "        return 0\n",
    "    \n",
    "    return 3*int(alpha) + int(beta)\n"
   ]
  },
  {
   "cell_type": "code",
   "execution_count": 7,
   "metadata": {},
   "outputs": [],
   "source": [
    "def compute_cost(entries):\n",
    "    return sum([entry_cost(entry) for entry in entries])"
   ]
  },
  {
   "cell_type": "code",
   "execution_count": 8,
   "metadata": {},
   "outputs": [
    {
     "data": {
      "text/plain": [
       "480"
      ]
     },
     "execution_count": 8,
     "metadata": {},
     "output_type": "execute_result"
    }
   ],
   "source": [
    "compute_cost(parsed_test_input)"
   ]
  },
  {
   "cell_type": "code",
   "execution_count": 9,
   "metadata": {},
   "outputs": [
    {
     "data": {
      "text/plain": [
       "39748"
      ]
     },
     "execution_count": 9,
     "metadata": {},
     "output_type": "execute_result"
    }
   ],
   "source": [
    "compute_cost(parsed_user_input)"
   ]
  },
  {
   "cell_type": "markdown",
   "metadata": {},
   "source": [
    "### Part 2"
   ]
  },
  {
   "cell_type": "code",
   "execution_count": 10,
   "metadata": {},
   "outputs": [],
   "source": [
    "new_parsed_test_input = parse(test_input, 10000000000000)\n",
    "new_parsed_user_input = parse(user_input, 10000000000000)"
   ]
  },
  {
   "cell_type": "code",
   "execution_count": 11,
   "metadata": {},
   "outputs": [
    {
     "data": {
      "text/plain": [
       "875318608908"
      ]
     },
     "execution_count": 11,
     "metadata": {},
     "output_type": "execute_result"
    }
   ],
   "source": [
    "compute_cost(new_parsed_test_input)"
   ]
  },
  {
   "cell_type": "code",
   "execution_count": 12,
   "metadata": {},
   "outputs": [
    {
     "data": {
      "text/plain": [
       "74478585072604"
      ]
     },
     "execution_count": 12,
     "metadata": {},
     "output_type": "execute_result"
    }
   ],
   "source": [
    "compute_cost(new_parsed_user_input)"
   ]
  },
  {
   "cell_type": "code",
   "execution_count": null,
   "metadata": {},
   "outputs": [],
   "source": []
  }
 ],
 "metadata": {
  "kernelspec": {
   "display_name": "aoc24",
   "language": "python",
   "name": "python3"
  },
  "language_info": {
   "codemirror_mode": {
    "name": "ipython",
    "version": 3
   },
   "file_extension": ".py",
   "mimetype": "text/x-python",
   "name": "python",
   "nbconvert_exporter": "python",
   "pygments_lexer": "ipython3",
   "version": "3.13.0"
  }
 },
 "nbformat": 4,
 "nbformat_minor": 4
}
