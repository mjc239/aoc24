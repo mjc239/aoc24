{
 "cells": [
  {
   "cell_type": "code",
   "execution_count": 1,
   "metadata": {},
   "outputs": [],
   "source": [
    "import operator\n",
    "from itertools import product\n",
    "from tqdm import tqdm"
   ]
  },
  {
   "cell_type": "code",
   "execution_count": 2,
   "metadata": {},
   "outputs": [],
   "source": [
    "with open('../data/day7.txt') as f:\n",
    "    user_input = f.read()"
   ]
  },
  {
   "cell_type": "code",
   "execution_count": 3,
   "metadata": {},
   "outputs": [],
   "source": [
    "test_input = '''190: 10 19\n",
    "3267: 81 40 27\n",
    "83: 17 5\n",
    "156: 15 6\n",
    "7290: 6 8 6 15\n",
    "161011: 16 10 13\n",
    "192: 17 8 14\n",
    "21037: 9 7 18 13\n",
    "292: 11 6 16 20'''"
   ]
  },
  {
   "cell_type": "markdown",
   "metadata": {},
   "source": [
    "### Part 1"
   ]
  },
  {
   "cell_type": "code",
   "execution_count": 4,
   "metadata": {},
   "outputs": [],
   "source": [
    "def parse_user_input(user_input):\n",
    "    lines = user_input.split('\\n')\n",
    "\n",
    "    equations = []\n",
    "    for line in lines:\n",
    "        nums = line.split(' ')\n",
    "        this_equation = (int(nums[0][:-1]), [int(x) for x in nums[1:]])\n",
    "        equations.append(this_equation)\n",
    "\n",
    "    return equations\n",
    "    \n"
   ]
  },
  {
   "cell_type": "code",
   "execution_count": 5,
   "metadata": {},
   "outputs": [],
   "source": [
    "parsed_input = parse_user_input(user_input)"
   ]
  },
  {
   "cell_type": "code",
   "execution_count": 6,
   "metadata": {},
   "outputs": [],
   "source": [
    "def test_equation(equation, operators):\n",
    "    target = equation[0]\n",
    "    nums = equation[1]\n",
    "\n",
    "    # (total, op, i)\n",
    "    stack = [(nums[0], op, 0) for op in operators]\n",
    "    \n",
    "    while len(stack) > 0:\n",
    "        total, op, i = stack.pop()\n",
    "        total = op(total, nums[i+1])\n",
    "        if total > target:\n",
    "            continue\n",
    "        else:\n",
    "            if i == len(nums) - 2:\n",
    "                if total == target:\n",
    "                    return True\n",
    "            else:\n",
    "                for op in operators:\n",
    "                    stack.append((total, op, i+1))\n",
    "            \n",
    "    return False"
   ]
  },
  {
   "cell_type": "code",
   "execution_count": 7,
   "metadata": {},
   "outputs": [
    {
     "data": {
      "text/plain": [
       "3312271365652"
      ]
     },
     "execution_count": 7,
     "metadata": {},
     "output_type": "execute_result"
    }
   ],
   "source": [
    "total = 0\n",
    "for equation in parsed_input:\n",
    "    if test_equation(equation, [operator.add, operator.mul]):\n",
    "        total += equation[0]\n",
    "total"
   ]
  },
  {
   "cell_type": "markdown",
   "metadata": {},
   "source": [
    "### Part 2"
   ]
  },
  {
   "cell_type": "code",
   "execution_count": 8,
   "metadata": {},
   "outputs": [],
   "source": [
    "def concatenate(a, b):\n",
    "    return int(f'{a}{b}')"
   ]
  },
  {
   "cell_type": "code",
   "execution_count": 9,
   "metadata": {},
   "outputs": [
    {
     "name": "stderr",
     "output_type": "stream",
     "text": [
      "  1%|          | 7/850 [00:00<00:24, 34.08it/s]"
     ]
    },
    {
     "name": "stderr",
     "output_type": "stream",
     "text": [
      "100%|██████████| 850/850 [00:05<00:00, 149.94it/s]\n"
     ]
    },
    {
     "data": {
      "text/plain": [
       "509463489296712"
      ]
     },
     "execution_count": 9,
     "metadata": {},
     "output_type": "execute_result"
    }
   ],
   "source": [
    "total = 0\n",
    "for equation in tqdm(parsed_input, total=len(parsed_input)):\n",
    "    if test_equation(equation, [operator.add, operator.mul, concatenate]):\n",
    "        total += equation[0]\n",
    "total"
   ]
  },
  {
   "cell_type": "code",
   "execution_count": null,
   "metadata": {},
   "outputs": [],
   "source": []
  }
 ],
 "metadata": {
  "kernelspec": {
   "display_name": "aoc24",
   "language": "python",
   "name": "python3"
  },
  "language_info": {
   "codemirror_mode": {
    "name": "ipython",
    "version": 3
   },
   "file_extension": ".py",
   "mimetype": "text/x-python",
   "name": "python",
   "nbconvert_exporter": "python",
   "pygments_lexer": "ipython3",
   "version": "3.13.0"
  }
 },
 "nbformat": 4,
 "nbformat_minor": 4
}
