{
 "cells": [
  {
   "cell_type": "code",
   "execution_count": 1,
   "metadata": {},
   "outputs": [],
   "source": [
    "import re\n",
    "import itertools\n",
    "import numpy as np"
   ]
  },
  {
   "cell_type": "markdown",
   "metadata": {},
   "source": [
    "### Part 1"
   ]
  },
  {
   "cell_type": "code",
   "execution_count": 2,
   "metadata": {},
   "outputs": [],
   "source": [
    "with open('../data/day4.txt') as f:\n",
    "    user_input = f.read()\n",
    "user_input = user_input.split('\\n')"
   ]
  },
  {
   "cell_type": "code",
   "execution_count": 3,
   "metadata": {},
   "outputs": [],
   "source": [
    "test_input = '''MMMSXXMASM\n",
    "MSAMXMSMSA\n",
    "AMXSXMAAMM\n",
    "MSAMASMSMX\n",
    "XMASAMXAMM\n",
    "XXAMMXXAMA\n",
    "SMSMSASXSS\n",
    "SAXAMASAAA\n",
    "MAMMMXMMMM\n",
    "MXMXAXMASX'''.split('\\n')"
   ]
  },
  {
   "cell_type": "code",
   "execution_count": 4,
   "metadata": {},
   "outputs": [],
   "source": [
    "def find_diagonals(array):\n",
    "    n = len(array)          # Number of rows\n",
    "    m = len(array[0])       # Number of columns\n",
    "\n",
    "    # Diagonals from top-left to bottom-right (main diagonals)\n",
    "    main_diagonals = {}\n",
    "    for i in range(n):\n",
    "        for j in range(m):\n",
    "            k = i - j\n",
    "            main_diagonals.setdefault(k, []).append(array[i][j])\n",
    "    main_diagonals = {k: ''.join([str(x) for x in d]) for k, d in main_diagonals.items()}\n",
    "\n",
    "    return main_diagonals"
   ]
  },
  {
   "cell_type": "code",
   "execution_count": 5,
   "metadata": {},
   "outputs": [],
   "source": [
    "def find_anti_diagonals(array):\n",
    "    n = len(array)          # Number of rows\n",
    "    m = len(array[0])       # Number of columns\n",
    "\n",
    "    # Diagonals from top-right to bottom-left (anti-diagonals)\n",
    "    anti_diagonals = {}\n",
    "    for i in range(n):\n",
    "        for j in range(m):\n",
    "            k = i + j\n",
    "            anti_diagonals.setdefault(k, []).append(array[i][j])\n",
    "    anti_diagonals ={k: ''.join([str(x) for x in d]) for k, d in anti_diagonals.items()}\n",
    "\n",
    "    return anti_diagonals"
   ]
  },
  {
   "cell_type": "code",
   "execution_count": 6,
   "metadata": {},
   "outputs": [],
   "source": [
    "def search_words(array, words):\n",
    "    total = 0\n",
    "    indices = set()\n",
    "    pattern = '|'.join(words)\n",
    "    m = len(array)\n",
    "    n = len(array[0])\n",
    "\n",
    "    # Horizontal search\n",
    "    for i, line in enumerate(array):\n",
    "        matches = re.finditer(rf'(?=({pattern}))', line)\n",
    "        for match in matches:\n",
    "            total += 1\n",
    "            new_indices = [(i, match.start() + j) for j in range(4)]\n",
    "            indices = indices.union(new_indices)\n",
    "\n",
    "    \n",
    "    # Vertical search\n",
    "    for i, line in enumerate([''.join(a) for a in zip(*array)]):\n",
    "        matches = re.finditer(rf'(?=({pattern}))', line)\n",
    "        for match in matches:\n",
    "            total += 1\n",
    "            new_indices = [(match.start() + j, i) for j in range(4)]\n",
    "            indices = indices.union(new_indices)\n",
    "\n",
    "    # Diagonal search\n",
    "    # Only works for square arrays\n",
    "    for imj, line in find_diagonals(array).items():\n",
    "        matches = re.finditer(rf'(?=({pattern}))', line)\n",
    "        for match in matches:\n",
    "            total += 1\n",
    "            ipj = m - len(line)\n",
    "            s = match.start()\n",
    "            start = ((ipj + imj)//2, (ipj - imj)//2)\n",
    "            new_indices = [(start[0] + s + j, start[1] + s + j) for j in range(4)]\n",
    "            indices = indices.union(new_indices)\n",
    "\n",
    "    # Anti-diagonal search\n",
    "    for ipj, line in find_anti_diagonals(array).items():\n",
    "        matches = re.finditer(rf'(?=({pattern}))', line)\n",
    "        for match in matches:\n",
    "            total += 1\n",
    "            imj = 1-len(line)\n",
    "            s = match.start()\n",
    "            start = ((ipj + imj)//2, (ipj - imj)//2)\n",
    "            new_indices = [(start[0] + s + j, start[1] - s - j) for j in range(4)]\n",
    "            indices = indices.union(new_indices)\n",
    "\n",
    "    return total, indices"
   ]
  },
  {
   "cell_type": "code",
   "execution_count": 7,
   "metadata": {},
   "outputs": [
    {
     "name": "stdout",
     "output_type": "stream",
     "text": [
      "18\n"
     ]
    }
   ],
   "source": [
    "total, indices = search_words(test_input, ['XMAS', 'SAMX'])\n",
    "print(total)"
   ]
  },
  {
   "cell_type": "code",
   "execution_count": 8,
   "metadata": {},
   "outputs": [],
   "source": [
    "def mask_array(array, indices):\n",
    "    m = len(array)\n",
    "    n = len(array[0])\n",
    "\n",
    "    masked_array = np.full((m, n), '.')\n",
    "    for i in range(m):\n",
    "        for j in range(n):\n",
    "            if (i, j) in indices:\n",
    "                masked_array[i, j] = array[i][j]\n",
    "\n",
    "    return [''.join(row) for row in masked_array]"
   ]
  },
  {
   "cell_type": "code",
   "execution_count": 9,
   "metadata": {},
   "outputs": [
    {
     "data": {
      "text/plain": [
       "['....XXMAS.',\n",
       " '.SAMXMS...',\n",
       " '...S..A...',\n",
       " '..A.A.MS.X',\n",
       " 'XMASAMX.MM',\n",
       " 'X.....XA.A',\n",
       " 'S.S.S.S.SS',\n",
       " '.A.A.A.A.A',\n",
       " '..M.M.M.MM',\n",
       " '.X.X.XMASX']"
      ]
     },
     "execution_count": 9,
     "metadata": {},
     "output_type": "execute_result"
    }
   ],
   "source": [
    "mask_array(test_input, indices)"
   ]
  },
  {
   "cell_type": "code",
   "execution_count": 10,
   "metadata": {},
   "outputs": [
    {
     "data": {
      "text/plain": [
       "18"
      ]
     },
     "execution_count": 10,
     "metadata": {},
     "output_type": "execute_result"
    }
   ],
   "source": [
    "search_words(test_input, ['XMAS', 'SAMX'])[0]"
   ]
  },
  {
   "cell_type": "code",
   "execution_count": 11,
   "metadata": {},
   "outputs": [
    {
     "data": {
      "text/plain": [
       "2297"
      ]
     },
     "execution_count": 11,
     "metadata": {},
     "output_type": "execute_result"
    }
   ],
   "source": [
    "search_words(user_input, ['XMAS', 'SAMX'])[0]"
   ]
  },
  {
   "cell_type": "markdown",
   "metadata": {},
   "source": [
    "### Part 2"
   ]
  },
  {
   "cell_type": "code",
   "execution_count": 12,
   "metadata": {},
   "outputs": [],
   "source": [
    "array = [[char for char in line] for line in user_input]"
   ]
  },
  {
   "cell_type": "code",
   "execution_count": 13,
   "metadata": {},
   "outputs": [],
   "source": [
    "tiles = np.lib.stride_tricks.sliding_window_view(array, (3, 3))"
   ]
  },
  {
   "cell_type": "code",
   "execution_count": 14,
   "metadata": {},
   "outputs": [],
   "source": [
    "total = 0\n",
    "indices = set()\n",
    "for i, row in enumerate(tiles):\n",
    "    for j, tile in enumerate(row):\n",
    "        joined_tile = ''.join(itertools.chain.from_iterable(tile))\n",
    "        if re.search(r'(M.M.A.S.S)|(M.S.A.M.S)|(S.M.A.S.M)|(S.S.A.M.M)', joined_tile):\n",
    "            total += 1\n",
    "            indices.add((i, j))\n",
    "            indices.add((i, j+2))\n",
    "            indices.add((i+1, j+1))\n",
    "            indices.add((i+2, j))\n",
    "            indices.add((i+2, j+2))"
   ]
  },
  {
   "cell_type": "code",
   "execution_count": 15,
   "metadata": {},
   "outputs": [],
   "source": [
    "m = len(array)\n",
    "n = len(array[0])"
   ]
  },
  {
   "cell_type": "code",
   "execution_count": 16,
   "metadata": {},
   "outputs": [],
   "source": [
    "masked_array = np.full((m, n), '.')\n",
    "for i in range(m):\n",
    "    for j in range(n):\n",
    "        if (i, j) in indices:\n",
    "            masked_array[i, j] = array[i][j]"
   ]
  },
  {
   "cell_type": "code",
   "execution_count": 17,
   "metadata": {},
   "outputs": [
    {
     "name": "stdout",
     "output_type": "stream",
     "text": [
      ".........S.M....S.M.........S.S.S.M.......M.M.............S.M.S.M.S.M.S.S................M.S.S.S.S....SMSS.S.M.....M.M....M.M........SMSM...\n",
      "M.M......SAS....SAS.S...M.M..A...A..M.S.M.SAM..M.S.M....S.MA.A.A.A.A...A.M.S.MM.S...S.M...A...A.AS.M...AA..MAM..S.MSAM.....A.....M.S..AA....\n",
      ".A.......SAM....SAMA..M.SA.MMSM.S.M..A.A..SAS...A.A......AS.M.S.M.S.M.M.M.A.A..A.....A...M.S.M.M.MA...MMMS.SAM...A.SAS....S.S.....AM.MSMS...\n",
      "SSSS..S.MMSM....M.M.M.MAS.S.AA......M.S.M.SAM.SMMS.M....S.M......A.A.....M.S.MM.S.S.SMMS.M....M.SS.M...A..AS.S..SMMSAM.S.........M.SA.A.....\n",
      ".AA....A.A.......A.A.AM.S..MSSSMM.M..A.A..M.MAMAM...............M.S.M............A.A..A.A......A....M.S.SM.M.M....AM.MAM.S.......M.S.S.S....\n",
      "MMMM..S.M.S.S...S.S.S.S.M.S.AAA..A..M.S.M...M.SAMS.S......MMSS..................M.MMMM.S.MS.S.M.S....A......A....M.S.M.SAS.S......A...A.....\n",
      "M.S.M......A.M.M.......A.A.MMSMMS.S....A......S.S.A.M.MS.S.AA...........SSMS........A......A......S.M.S....S.S........AM.SA....S.M.S.M.M....\n",
      ".A.A......MSMSAS.S.M.SSMM.S...........S.M........M.M.A..A.MMSSM.S.M.M.S..AA........S.S....M.M......A.A...............M.S.M.M....A........S.M\n",
      "M.S.M.......ASAS.MAMA.A......MMMS............S.S.SM.SMSM.M.MA..A.A...A..SMMM..................S.S.S.M.S...................M.SS.S.M.M...M.MAM\n",
      "SMMM.......M.MAM.SAM.S.MS.S...AA.......MMMSM.MA.A..A..A.A.AM.SM.S.M.M.S...........M.MS.S.S.MS.MASA....M.M......MMSMMMS.....A..A...A....MASAM\n",
      ".AA..........M.M.S.S..M.SA...SMSS.......AAA.AM.M.MM.SS.S.S.SA.....M.MA...S.S.S.....A..A...A..AMAM.M....A........AA.AA..S.MMMSM.M.S.S...SASAS\n",
      "SSMS.S..........A......AM.M...A........SMSSS.S.SM.SA..A..SAM.S.....AM.S..MASAM.M..S.SM.MMSSMS.M.S....MSMS.....SMSSSMSS..A...A..........MAS.M\n",
      "..A.A..........M.S....M.S.M.SM.M.........A....A..AM.SM.M.MAM...S.MSSSM...MAM.MA....A.....A............AA.......A.......S.M.S.S..S.S....M.M..\n",
      "SMSM.M..S.M...M.M.....M.M.MAM...........MSSSSMSMMMSMM...ASAM.M.SA...A....M.S.S.S..M.M...M.SSSMS..M.M.SMSM.M.S.M.M................A..........\n",
      ".A.......A.....AM.S.M.SASAMAS.M......S.S..AA.AA.A.AA...S.SAS..AS.M.S.M......A..M.S.M........AA....AS.M.M.S.A..................S.M.M.S.S.....\n",
      "M.M.....SMMS..S.SA.A.AS.SASASA........A..MMMMSMSSSSSM....S.M.M.S...........M.M..A.AS.S.....SMMMSSS.SAM..A.M.S..................A..M.SAM.....\n",
      "..........A....AM.S.M.S.S.MASMMSSMS.SMMM...AA...AA....MSMM.........S.M.M.M.M..MMSSMMA...S.MM.MAA...SAM.M.S.M....S.S...........S.M.SAMAM.....\n",
      ".........M.S..M.M.M.M....MMMM.A.AA...A.S.MSMSSSMMMM....AA...........A..MAMA....A.A.M.M...A..AMMSS..S.M.S.MA......A.M.M............MAS.M..M.S\n",
      "....S.SM.S....M.M..AM.M...A..M.SMMM.S.M.AM.MA.AA......SSSMM.S.S....S.M.SAS.S..M.S.M.M.S.S.MS.SAM........AS.MS.M.M.M.A.............S.MM.M.MA.\n",
      ".....A..AS.S...AM.S.SA...S.S.....A...M.S.MAM.SSMMM.......A...A.........S.S.......AM.MA.......MASMSSSMS.S.M...A.....S.S................A.AM.S\n",
      "....M.MM.SAS..S.SA..S.S...A.....SMSM..A.AS.S....A.......SSMSM.M......M.S........S.MAM.S......S.M.AAAA..MAM..S.M...................MSSS.S.S.S\n",
      "...M.M...MAM....M.S......M.MM.S..AA..MSSMMAS...S.S.......AA.M.M......SAM....M.S.M.S.S.........A.MMSMMM.SAM.....S.M.M.M.............AA.A.A.A.\n",
      "....A....M.M.................AM.MSMS...A.MAM...........SSMMM.AM.SM.M.MAS.....A.AM.MA.......S.S.M....AM.S.S......A...A.........M.S.MMSMMMSMMM\n",
      ".S.S.S........S.S..........SMMSA....M.SMMM.S............A.MSSMSA..A..SAM....M.S.MAM.M..S.M..A...S.MS.SA.......MSMM.S.S.........A.A.A.A...A..\n",
      "..A...M.S.M.S.MA............A.S.S....A.AA....S.S.....S.S.M.AA.M.SS.S.MAS........S.S.M...A..MSMS.SA...M.S.......A..............M.S.M.S.MMSSM.\n",
      ".M.M...A...A.AM.M..........S.M.A....M.SSMSS.M.A..M.S..AM.SMSSM.......S.M......S.S..A...S.M...A.AS.M...A.......S.S......................AAA..\n",
      "......M.S.M.S.MA..............M.M....A.A.A.A.M.M.SA..M.MAS.M.....S.M......M.M..AS.S.M.......MMMMMMSSMM.S.......M.M.S.S................MMSSM.\n",
      ".M.M.....A....S.S.M...M.S.M.M.MM.M..M.S.M.S.M...AM.S.SAM.SAM......A........A..M.MA...........AA...AA......M.S...A...AS.S....................\n",
      "..A.S.S.S.M.M....A.....A.A...A..AS.M...........M.S.SAS.SASAM..S.SS.M......S.S..SMSM.S.S.S...SSSSSMSSM......A...S.S.M.MA.................MMMM\n",
      ".S.S.A.A...A....S.M...M.S.M.S.SS.SAS.S.............MAMAM.S.M...A................AA...A.A.....A.A.A........M.S...AM.S.M.M.M...............AA.\n",
      "....M.M.M.S.S.S..............A...SAMAM.M..M.S.MS.S.M.M.M.M.M..M.M.............MMSMS.M.M.MM.MMMM.M.M.S.S.S....M.M.MAS.MA.A.S.S.S.S.....S.SSSS\n",
      ".....S.S.....A.......S.S....M.M..M.M.MA...SASA..A...A...A.A....................A..........A.A........A.A...S.MA..MASAS.S.SMAMA.A.......A.A..\n",
      "......A.....M.M.......A.............MSSS..MAS.MMSM.S.S.S.S.S.............S.M.SM.S........S.S.S......M.M.M...AS.S.M.S.MA...MAM.M.M.....M.M.M.\n",
      ".....M.M..S.MS.S.....M.M...M.M...M.M.AA...M.M.MAM.A...A.A.................A.A..A............A............S.S.MA.....AM.M..S.S.M.............\n",
      "..........SAMMAS.M...S.S....AS.M..ASMMSM...A..MASM.S.M.M.MM.S........S.M.S.M.SM.S..M.SM.M..M.M....M.S.....A..M.M...S.MA......A.....MSMSMMMMM\n",
      "......S.M.SAMMAMA.....A....S.SA..S.SA....SSMSMSMS...M.M....A.M.SM.M...A.A.AS.S.A....A..A....A...S.SA.....MMMM......S.S.S....S.M.....AAA..AA.\n",
      ".......AS.S.MM.S.M...M.M.....S.M..AS.M.S..A..AA......A....M.S.A..A...S.M.S.MA.M.S.MMSSSMS..S.S...AM.S......A........A.AMMMSM.MM.S.SSMSMSSSSS\n",
      "......S.MA............A......M.S.M.M..A..S.MMSMS....SMSSM.M..M.SS.S....S.M.M.M.....A..A.........M.M.....S.S.S..S.S.M.M.MAAA.A..A...A......A.\n",
      ".S.SM.M.M.MS.S.......S.SS.S...A......M.S..A..M.S.M....A..A.............MAM..M.S...M.SS.M........S.S.M.S..A......A......SMSSS.SM.S.SMMS..SMSM\n",
      "..A..ASAS...A..S.S.......A...M.S.........S.M.SA.A....M.SSSS..M.M.M.M.S.SAM.S.A...........M.M..S.MA...A..M.M....M.M......A...A.......A....A..\n",
      "SMSMS.SAS.MM.M..A.......M.M...............A.AMMSSMMS.M..A.....A.A...A..S.SA.M.S...........A....AM.M.MSSMS.............MMSM.M.M.....MSSSMM.M.\n",
      ".A.AS.M.MA.M.M.M.M................S.M.S..S.M.S.A.AA.A..M.M...S.SSSMM.S...M.S..M.M........S.SM.S.M.....AA..............SAM...A..S.M..AAA.S.M.\n",
      "M.M.MAM.S.M.A......................A.A....A...M.SMMS.M........A..A.............A..........M.MA.......SMMM.............MAS.SS.S..A..MMSMM.A..\n",
      "SAS.S.MAMA.S.SMSM..............MMSS.M.S..S.M...M.M.M......S.MMSMSSMS...S.MMSMSS.S..........AM.S.S............S.MS.S...S.MA.....S.M...A..SMMS\n",
      "SAS.M.MAS.M...AA................AA.A..S.M......MAMA........A.A....A.....A..AA............SSMS.MA..............A..A......M.M........MSSS.MMAS\n",
      "M.MA..S.S.S.SMSMS..............MMSSSM..A.......SAS.S......S.M.S..M.M..MSMMSMSM............A..AM.M..........MMSSMM.M.....M.MM.S.SMMS.A..A.MAS\n",
      "..S.M....A.A.A.A...M.M........S.M.A..MSSM.S....SASA....................AA...A............S.MS.M.S.M.........AAA.M.S.....SAS.A...AA.M.SSSMM.S\n",
      "M.S.....M.M.M.M.M...A.....S.S.SA.M.M..AA.A.....MMMMM........M.S.M.SSSSSSSM.S.S............M.MA...A........SMMSSM.A......SASMMS.SMMSS.MAM.M.M\n",
      ".A.............A...S.SM.M..ASAS.M....MSSM.S......A........S.SAMAS..AAA.AA..................AS.M.S.MS.SM.S..A....M.S.....M.MA........AM.MA.A.\n",
      "M.S....M.M.M.MSMS......A..M.MAM........A........S.S....S.M.AM.SAM.MMMMMSMMS.M.....M.S.....S.S.......A..A..SSMSM.M.S.S...MAS.M..S.S.S.MASMSSS\n",
      ".A......A.A.A.A.....M.S.S...M.M.....M.SMMM..............A.M.M.M.S........A.A.......A...............M.MM.S...AA.A...A....SASA....A...AS.SAAA.\n",
      "MMSM...S.SSSSSSSMSM.MA...............A.AAS.S.S.S.....S.SMMS.............M.S.M.....MMSS.S.M....SMSM.MA......MSMSSSMM.M...M.S.M..M.M.S.M.MMMSM\n",
      "..A..M.M.M.A.AA.AA.AM.S..SMSS.......M.SSMSA...A.......A..AM.S.M............A........A...A...S.SAA.AS.S.M.M......AM.MM.M...........A......A..\n",
      ".S.S..A.A.M.MMMMSMS.S.S...AA.........M.M.M.M.M.M.....M.MM.SA.A........M.S.S.M....M.MMSMS.M...AMSMS.SAM..A......S.MA..A...........M.S....M.S.\n",
      ".....S.S.S..........SAS..MMMS..S.M....A...A..S.M..........M.S.M........A.....M.M..A..A......M.M....MAM.S.S.MMMM..S.SS.S.....................\n",
      ".S.M..............S.MAM.........A....SSSSS.S..A............A.........SMSS.....A..S.SSMS.M.S........SAM......AA.......A......M.M....M.S......\n",
      "..A................AM.M...S.M..S.M.....A.....S.M..........M.S.M.......A...S.SS.S....A....A......S.MS.S.S.S.SSSSMSS..M.M......A......A..S.S.S\n",
      "SSSMS.............S.M.....MAS.........M.M..M.M...............A.......M.M.M.A..A....S.M..M.S......A......A.A..A.AA......SSSMSS.S....M.S.MA.A.\n",
      ".AMAM.....M.S.M.S.........SAM.......M.M.M...A...............S.M.......A.A.M.MM.M................S.M....M.M.MM.MMMS.S.M..AAA........SAMAM.M.M\n",
      "M.MAM......A.A.A.M.S.M.M..M.S.....S.MA.A...S.S...S.M.S.S....S.M....M.S.S.S......MSSS.S...........A..................A..MSMMM.......MAS.M....\n",
      "..S.S...S.M.S.M.S.A...A.....MMMS...AS.S.S....M.M..A...A......AM.M...A...A.M.S.M..AA.A........M.MSMMS.M.S...........S.M.M...........SAM.M....\n",
      "...A.....A.M.M.S.M.S.S.S.....AA...S.MA.A.M.M..A..S.M.M.M.S.MS.MA...M.S.M.MSASAM.MMSM.M........A.A...A.A.....S.M.......AMMSSM..M.S..M.SA.....\n",
      "..M.M...S.M.A...A........S.SSMSS....M.MMMMASMSSS........A.A..AS.S.....A...MAS.MA.............S.S.SSSSM.S.S..MAS.S.M..S.SAAA....A.....S.S....\n",
      "S.S........S.S.S.M........A.M.M.........AS.SAAA........M.SSMS.MA.....S.M..M.M.S.S.............A.A.AA....A...SAM.SAM...AMMSSM..M.S...........\n",
      ".A..................M.M..M.M.A.......S.S.S.MMMSM....M.M...AA..M.M..S.M................S.S....M.M.MMMMMSMSM..MAS.SAM.MM.M....................\n",
      "MMMM.S.S.......MSMM..A..S.S.S.S.......A.A.......S.M.MAS.MSMMM.......A............M.S.M.A...S.MA.....A..A....S.MAS.MA...S.S....S.S.S.S....M.S\n",
      "..A...A.........AA..S.S..A...........M.M.M.......A..SASA...........S.M.S.....S.M..A.A.M.M...AS.S.M.S.SM.M.....M.M.S.SM.SA......A.A.A...S.MA.\n",
      ".S.S.MSMS.SSSS.SSSM.....M.M....M.S.M....A.......S.M.M.S.M...S.S....M.MAM.S.M.SA..MMSSM.....S.M..A.........S.M......A..AM.MM.S.M.M.M.M...AM.S\n",
      "..A...AA.A.AA...A...S.M.M.MSMS..AMAM.M.S.S........SAM.SAS....A......AM.SA.A.ASMMS..A...........S.M.M.M.S...A......M.MM.SM.SAM..........S.M..\n",
      ".MSMSSMSMSMMMM.M.M...A...A.AA..M.SAMA.........M.M.SAS.SAM...M.M.M.SS.SAM.S.M.S.A..M.S.....S.M.....A...A.M.S.M.M..........AMAS.....M.S.......\n",
      "...A..A.A.........M.S.M.S.SMSM...S.S.S.M.SM.M..A..S.M.M.MS.M.....A...M.S......M.S...SMSMS.SAM....S.S.MSSMA...A.....M.MS.M.S.M......A...M.M.M\n",
      "..M.MM.M.M......M.MA.......A............A..A..S.S........MAS.S.MM.S..................AAA..SAM.......A..AM.S.S.S.....A..A.A.A......M.S...A.A.\n",
      "........A........AM.S.S.SSMMM..........M.SS.S..A.........SAM..A..A....S.S.........SSMSMSM.S.M......S.MS.M..A.A..S.SS.SS.M.S.MS.M.......SSSMS\n",
      "S.SM.M.S.S......S.S..A.A..A.......M.M..M.M.A..M.M......M.MAS.S.MM.S....A...........AA......M.M............MMMSM..A..A....A.A..A..........AA.\n",
      ".A..A......S.S..MAS.M.M.MS.M.......A....A.M.M...S.M.....AS.M..A......MMSMM........SMMM.....SAS..............A...M.MM.M..M.S.MS.M..MMMSM.SMMM\n",
      "M.MSMS.S.S.SA...MAMA.........S.MS.S.S..S.S.......AS.S..S.SAMSSMM......AAA................M.SAS.M.S.M.......M.S...M.SA..............AA..A.A..\n",
      ".A.AASASA.AM.M.SMSS.M.........A..A.A....A....M.MS.MA....AS.MAAA......MSSSM................AM.MA.A.A.........A....MAS.S.........S.MSMSSM.S.M.\n",
      "S.SMSMAM.M.M....A........S.M.S.MMSMMM..M.M.S.SA...M.M.MMMMMMSSMMS.M.....A................M.S.S.M.S.M.......M.S.S.MAS.M..M.M.....A..AA....M.M\n",
      "S.M.AM.M.M.M...M.M.....S.SA.....A.A.SSSM....AS.SMMS.S.SA...A.A...A.....SMMM..............M.M....................AMASAS.S.A.....S.MMMMS.M.SAS\n",
      ".A.S.S....A............SAS.M...M.S.M.AAM.S.M.M..AA...AS.S.M.S.MMSMM......A........S.S.....A...S.S..............S.M.S.MA.S.S...........AM.SAS\n",
      "S.M....M.S.S...........MAM.S.M......MSMMAMAM..MSMMS.M.M..A.....MAM...S.SS.S.M......A.....S.S...A.....................M.M....M.M......S.MAM.M\n",
      "MMSMM...A.....S.S..M.S.M.MA.A..........M.SAM...A........S.MS.S.SAS....A....A.....MMSM.........M.M.................M.S.M......A.......M.M.SA.\n",
      ".AAA...M.S.....A.M.SAMAS.M.S.M...........S.S..S.S..M.S..MAM.A.AS.S.S.M.M..S.M.....A........SSSSS.S.........S.S.S...A.A....S.S.S......SAS.S.S\n",
      "MSSSM.........M.M.AMASAMA..............M.M..........A...SAMMSM.M.MAM.............M.SM.M.....AA..A...........A.A...M.S.M....A.......S.SASAM.M\n",
      ".AA..............M.S.M.SMMS.............A........M.M.S.MS.SA.....MAM....S.S.S........A...M.MMMMM.M.........M.M.M..........M.M.S.....AMAM.MA.\n",
      "MMSM..............M.M.M..A.............S.S.M......A...A..AM.SM.M.SMSM....A.A........S.S...A.....................M.M.M.M......A....MMMMMMMS.S\n",
      "......S.M.........SASA..M.S.S.............A......SMSSSSMM.M...A....A..M.MSMSMSMSSS......SSSS......S.S...........SAMASA...S.SMSSM..SASA.A..A.\n",
      "......MAS.........SAS.S.M.SAM........S.S.S.M.......A..AA..M.MS.S..S.S.SA..A...AAA.......MAM........A..........S.SASAS.S...A...A...SAS.S.SM.M\n",
      "......SAM.........MAM....AMAM......S.SA.A......S.SMMSSSMM..A........MAS.SM.M.MMMSM....M.MAM.......M.M..........ASAMAS...MMSM.S.M..M.M..A....\n",
      "....M.M.S.......M.MAM...M.S.M.......AM.M.M......A...AA..S.S.S...M.S.MAM................AS.S......S.SM.M...M.M.M.M.M.M...SAM.A.A...S.MSMSMM.S\n",
      ".....A...........AS.S.S...M.S......M.M.....M.S.M.M.MMSM..A.A..M.SA..M.S........M.M....S.S.M.......A..A.....A.....AS.M...MASMSSSM...A..A...A.\n",
      "....S.S....M.M.MSMSA.A.....A..........S.S...A...........MMMSM.MAM.S....MSMMMS...A........A.......M.MS.S...S.S...S.SA....SAM..AA...S.MMMMMMMS\n",
      ".S.M....S.M.A.A.A.M.M.M...M.S....M.S.M.A...M.S.S......S.SAAA..MAS.......AAAA...SMSSM...MSMM....S.S..MAM..........AS.M...M.S.MSMM...A..AA.A..\n",
      "..A......A.S.S.S.S.........S.M....A.A.M.M.....A........ASMSSSSSMS...SMSSSSMSSM...AA.....A.......A...MAM.S.S.M...M.M...........MSSMS.MSSSSMSS\n",
      "SSMM.S.MS.MSAS......M.M.....A....M.S.M...S.SMMSM......M.MA.A..A......AAA...AA...MSSM..SSSSSM.S.M.M..S.SAM.SA.M.M..M.M..........AA.......A.A.\n",
      ".AA.A.A....MAMM.S....A...S.S.M............A..A...M.M...AM.M.MS.M....MMMSMMMSSMM........A.AA.A.A.S.M...MASAS.MSAS...A...S.S.S.SMSSMSM.M.S.M.S\n",
      "SSMMMSSMM.SMSM.A..S.S.S...A..S.M.........M.MM.S..MAS..SMSM.............A..A.AA..M.M.M.M.MSMMSSSM.A....S.M.SA.SAS..S.S...A.A.A.A..A..A.......\n",
      ".....AAA...AA.M.S.MA.....M.M.MAM...........M.M...SAS...AA.............S.SMMSSMM.MASA......A..A..S.M.M.S...S.MMAM...A...M.M.MMMSMM.MS.S..S.M.\n",
      ".S.SMSSMM.MSMS...AM.M.S.S....SAM............A....MAS..MSMS.M.S.M......M.M..A....SAS.S....S.MM.M......A.......M.M..M.M.....A..A...........A..\n",
      "..A.A...........S.M....A.....S.S.S.....S.S.S.S.S.M.M.....MASA.AS.S....SAM.M.S...M.SA................M.S.......S.M..M.M...S.SM.S.M.S.M.SMSSM.\n",
      ".M.M.M...S.S.S........M.M.....A.A.......A.....A......M.S.SAM.S.MA.....SAS.....M.SAM.M.....S.MSSS...............A....A............A.A.A..AA..\n",
      "..........A.A................M.M.M.S.M.M.M...M.M.S....A..M.S...M.M....S.M......AM.SA.......A.AA..............SSSM.MS.S..........M.S.M.SMSSM.\n",
      "........SMSMSM.......S.S.S.S.....SAS..A.AS.S....A....M.S....M.S...............M.SAS.S.....S.MMSM...S.S..M.M...A..A..A..S.M.......A......A...\n",
      ".........A.A..........A.A.A......MASMSSS.SA....M.S...........A..................MAS..........M.M.M..A....A...MMMSSSM.M..A.......M.S..M.MMSS.\n",
      "........M.M.M...S.MS.M.M.M.M.....M.MAA...M.M........M.M...S.MSSMS...S.S..S.S....MAM...........A.A..M.M..S.S....A..A....S.MM.S.........A..A..\n",
      ".................A..AS.M.MAS.......MMMSS.............AM.M..A..AA.....A....A.....MMSMM.M.M....SMSMSMM.....A.MSSM.SS.M.M.M.M.A..M.SSSSSS.SM.S.\n",
      "..S.M...S.M...S.S.MS.MA..SAS....S.M.S.A.M.S.S.MM.S..S.SAS.S.MSMMM..MMSM..MSMS.....A..A.A.......A.AA.....M.M.AA......A.A.A.M.S..A..AAA.A..A..\n",
      "S.MA..M.SA.....A....AS.M.MAS.....A.A.M.S.A...A..A.....S.SA....AA....A......A.....S.SS.S.S..S.SS.SSSMM.M....MSSMS.S.S.S.S.SS.S.M.SMMMMM.MM.S.\n",
      "MAS.M.MAS.M...M.M..S.MAS.M.M..M.S.MMSMSMM.S.S.MM.S.MSMS.M.M..SSMSS.M.S....MMMM..M.M..A.M.M..A........A........A...A...A....AS.S..A..........\n",
      "SAM.SAM.S..........SASAMA......A.A.AA.AA........A...AA.........AA.....M.M..SAS..MAS.M.M.A..M.M......S.S......M.M.M.M.MMMSMMMMA..S.M...M.S.M.\n",
      "M.SASAS.S.SM.M.....SAM.S.M....M.S.MSSSSSMS.....M.S.SMSM.......MMMS.....A...SAS..SAS..S.S.S..............M.S.M.M.......AAA.A.M.M........A.A..\n",
      "S.M.S.M.SAS.A......M.M.................AA....M.S......M.SM.M........M.S.S..M.M..MAS...A......M.MM.S......A...A.......SMSSS.S.S........M.SMMS\n",
      ".A......MAMS.S..................S.S...SMMM.M.SAM...S.S.A..A..........A..........M.M.MMSMM.M...A..A......M.S.S.S.S.......A.A.A...S.S.S.....A.\n",
      "S.M.....M.M......................A........AM.MAS....ASMSSS.S........M.S...........M.SA..SAS..S.SM.S...........MAM....S.M.MSMSM...A.A....MMSS\n",
      "............S.S............M.S.MMMM......S.SAS.M...M.MA.....M.M...............M.S..AM.S.SAS...A...S.M..M.M....MAM.S...A....A....M.M.M.M.SAA.\n",
      ".............A.M.M..........A...A.......M.MSAS..S.M..M.M....SAS................A..M.SA..MAM..M.M...A....A.....S.SA...S.M..M.M..S.M.M.S.AMMSS\n",
      "............MMMMA..........M.S.S.S.......A.MAM...A.S.S......SAS...S.M........SMSS..AM.S.M.M.S.M.S.S.M..S.S.S....MMSM....M.S.....A...A.M.S.A.\n",
      "M.M........S.MAS.S.........S.SA.........S.SM.M..S.M.A.......M.M....A..........AA..M.S.S.M....A.A........A.A.......A......A.....S.M.M.S...M.S\n",
      ".A..........ASAS....S.S..M.SAM.M...MMMS.M..........M.M.S...M.M....S.M........MMMS..A...A....S.MMSSS.S..M.M.M.M.M.S.S...SMMS..............M.M\n",
      "S.S..S.M...S.M.S....MAS.M.AM.M......AA.A..M.S.M.......A.....A.....SMMS.........A..M.S.S.M.......AA.A..........A...A..S.SA.................A.\n",
      "......A.............MAMASMMS.....MSSMSSSM..A.A.......M.S...S.S.MS.SAA......MMSMMS....A....S.S.SMMSMMMMM.M....S.S.M.M..AS.M....S.S........S.S\n",
      ".....S.M..S.S.......M.SAMA...M.M..AA.AA...M.S.M..S.MS.M.......A..ASMMSM.....AAA.....M.M....A.A......A..A.....S.M.....M.MA......A............\n",
      "...........A..........M.S.M...A..MSSMMSMS.........A..A.......S.MM.M..A..S.SMSSSM.M........M.M.MS.M.SMSS.S..S.MA........SMMM...M.M..S.M.S.M..\n",
      "......M.S.M.M................S.S.......A.........S.MSSM.......M.S.M.S.S..A.A.A..AS.M...........MASA..A......AS.M.S.M.....A..M.SAM...A...A...\n",
      "....M.SAMAM....S.M............A....M.MM.M...........AA...M.M...A.ASAM...M.M.M.MS.SA.S.M........SAM.SM.S....S.M....A.....S.S..ASAS..S.M.S.M.S\n",
      ".....AM.SAM.....A.S.M........M.M....A......M.S.....MSSM...A...M.S.MAS............S.M.A.........MAS.........S.M.S.S.M........M.S.M.....A.A.A.\n",
      "S.M.M.S.SAS..S.S.M.A...S.M.....S.S.S.S......A.....S.M....S.S......S.M........S.S....S.M.M..S.S.S.M.......S.SA.AM.MA....M.M...A.M.S.M.MSSSM.S\n",
      ".A.....ASAM...A...S.M...AS.M....A.A.A...M.MM.S.....AS.S..............MSMS.....A........A....A.............AS.M.SAS.M....A...MMSMAMA...AA....\n",
      "S.M...M.M.M.SMSM...M.S.S.MA....M.M.M.M...A........S.MA.....S.M........AA.M.S.M.M......S.S..M.M...S.M.....M.M.M.SAS.....SSSS.S.AMAS.M.MMSM...\n",
      ".A....M.M....AAM.M..A...AS.M..M.S.M.S.M.S.S...M.M.M.M.M.....A....M.M.SMSM.A.A..........A...S.S....A.........A..M.MMSSS...A.A.S.SASA.........\n",
      "S.M.S..A....MSMSAS.M.S.S.M.....A.AS.SA...A....MASA...A.....S.M.S.MAS..A..M.S.M........M.MM.MA....S.M.S.....S.S..A..AAM.SMMMSM..M.S.M....SSSS\n",
      "...A..S.S......S.SASA.....M.M.M.S.MAS.M.M.M...SAS.S.S.S.......A..SAS.M.M..A............S.SAM.M......A.......A..SMSMMSMA.AAAA........S.S..AA.\n",
      "..M.S...........ASAM.S....SAMA....M.MAS.M.S.M.M.S............M.S.MAS....MMSS...S.S.S....AS.S......MMSSM.S.SM.M...AA..M.SSMSSS........AM.MMMM\n",
      "...A.........M.M.M.M......SAS.S.S.S.S.MA.A.A...A.................M.M.....A......A.A..S.M.MA........AMAM..A......SSSM....A..A........M.MA.A..\n",
      "..M.S....M.S..A...........SAMA.AM.MA..S.M.S.M.M.S..M.M..................M.S...MMMM.M..A..M.MM.M...M.SAM.M.M............SMMM.M.......S.S.SMSS\n",
      "..........A..S.S.....S.M..M.M.M.MAM.M...............AM.M......S.M...S.S.......SAS..M.S.M.M...A..S.M.SMSSM........SSSMS...A....M.S....A.A..A.\n",
      "......M.SM.S.M.M.S.S.SA.S.S.S.S.S.S.M.........S.MS.S.SA........A.....A........SAS.M.A..SAM.SS.S..A.A..AA.S.SM.S...AAA...S.S.M..A....M.M.MM.S\n",
      ".......A....A...A...ASMMMA.A.A.....A...S.S.S...A..A..S.S.SS.M.SMMSSMMMM.S...M.M.MA.M.S.SASA..A..S.MSSMSSMSA..A..MMSMMM.....A..M.S.S..M.S....\n",
      "......M.S..S.M.M.S.M.M.AM.M.M.M...S.M...A.A...S.MM.M..A.A..A.A.AAA..A..A.....A..S.M....SAM.SM.M.....A..AAM.MM.S..AAAA.....S.M....A....A.....\n",
      "......................S.S..............M.M.M.........M.M.MS.M.SMMSSS.SM.S...S.S........M.M.........S.MSMMM......MSSSMS..........M.M..M.S....\n"
     ]
    }
   ],
   "source": [
    "print('\\n'.join([''.join(row) for row in masked_array]))"
   ]
  },
  {
   "cell_type": "code",
   "execution_count": null,
   "metadata": {},
   "outputs": [],
   "source": []
  }
 ],
 "metadata": {
  "kernelspec": {
   "display_name": "aoc24",
   "language": "python",
   "name": "python3"
  },
  "language_info": {
   "codemirror_mode": {
    "name": "ipython",
    "version": 3
   },
   "file_extension": ".py",
   "mimetype": "text/x-python",
   "name": "python",
   "nbconvert_exporter": "python",
   "pygments_lexer": "ipython3",
   "version": "3.13.0"
  }
 },
 "nbformat": 4,
 "nbformat_minor": 4
}
