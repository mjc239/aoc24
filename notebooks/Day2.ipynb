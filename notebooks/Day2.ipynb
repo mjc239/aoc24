{
 "cells": [
  {
   "cell_type": "code",
   "execution_count": 1,
   "metadata": {},
   "outputs": [],
   "source": [
    "def sign(n: int) -> int:\n",
    "    \"\"\"Function to return the sign of a number.\n",
    "    Args:\n",
    "        n (int): The number to check the sign of.\n",
    "    Returns:\n",
    "        int: 1 if n > 0, -1 if n < 0, 0 if n == 0.\n",
    "    \"\"\"\n",
    "    if n == 0:\n",
    "        return 0\n",
    "    else:\n",
    "        return 1 if n > 0 else -1\n",
    "\n",
    "\n",
    "def remove(num_list: list[int], idx: int) -> list[int]:\n",
    "    \"\"\"Function to remove an element from a list.\n",
    "    Args:\n",
    "        num_list (list[int]): The list of numbers.\n",
    "        idx (int): The index of the element to remove.\n",
    "    Returns:\n",
    "        list[int]: The list with the element removed.\n",
    "    \"\"\"\n",
    "    return num_list[:idx] + num_list[idx + 1 :]\n",
    "\n",
    "\n",
    "def is_report_safe_part1(nums: list[int]) -> bool:\n",
    "    \"\"\"\n",
    "    Function to check if a report is safe (part 1).\n",
    "    Args:\n",
    "        nums (list[int]): The list of numbers in the report.\n",
    "    Returns:\n",
    "        bool: True if the report is safe, False otherwise.\n",
    "    \"\"\"\n",
    "    # Check if the first difference is 0\n",
    "    first_diff = nums[1] - nums[0]\n",
    "    if first_diff == 0:\n",
    "        return False\n",
    "    else:\n",
    "        first_sign = sign(first_diff)\n",
    "\n",
    "    # Loop through the rest of the list, checking if the differences are safe\n",
    "    for i in range(len(nums) - 1):\n",
    "        diff = nums[i + 1] - nums[i]\n",
    "        if sign(diff) != first_sign or abs(diff) > 3 or diff == 0:\n",
    "            return False\n",
    "\n",
    "    return True\n",
    "\n",
    "\n",
    "def is_report_safe_part2(nums: list[int]) -> bool:\n",
    "    \"\"\"\n",
    "    Function to check if a report is safe (part 2).\n",
    "    Args:\n",
    "        nums (list[int]): The list of numbers in the report.\n",
    "    Returns:\n",
    "        bool: True if the report is safe, False otherwise.\n",
    "    \"\"\"\n",
    "    # Check if the first difference is 0, and try removing the first element if it is\n",
    "    first_diff = nums[1] - nums[0]\n",
    "    if first_diff == 0:\n",
    "        return is_report_safe_part1(remove(nums, 0))\n",
    "    else:\n",
    "        first_sign = sign(first_diff)\n",
    "\n",
    "    # Loop through the rest of the list, checking if the differences are safe\n",
    "    for i in range(1, len(nums) - 1):\n",
    "        diff = nums[i + 1] - nums[i]\n",
    "        if sign(diff) != first_sign or abs(diff) > 3 or diff == 0:\n",
    "            return (\n",
    "                is_report_safe_part1(remove(nums, i - 1))\n",
    "                or is_report_safe_part1(remove(nums, i))\n",
    "                or is_report_safe_part1(remove(nums, i + 1))\n",
    "            )\n",
    "\n",
    "    return True\n",
    "\n",
    "\n",
    "def parse_day2_input(user_input: list[str]):\n",
    "    \"\"\"\n",
    "    Function to parse the user input for Day 2.\n",
    "    Args:\n",
    "        user_input (list[str]): The user input.\n",
    "    Returns:\n",
    "        list[int]: The parsed user input\n",
    "    \"\"\"\n",
    "    return [[int(x) for x in report.split(\" \")] for report in user_input]\n",
    "\n",
    "\n",
    "def solve_day2_puzzle_part1(user_input: list[str]):\n",
    "    \"\"\"\n",
    "    Function to solve part 1 of the puzzle for Day 2.\n",
    "    Args:\n",
    "        user_input (list[str]): The user input.\n",
    "    Returns:\n",
    "        int: The solution to the puzzle (part 1)\n",
    "    \"\"\"\n",
    "    # Parse user input\n",
    "    parsed_input = parse_day2_input(user_input)\n",
    "\n",
    "    return sum([is_report_safe_part1(report) for report in parsed_input])\n",
    "\n",
    "\n",
    "def solve_day2_puzzle_part2(user_input: list[str]):\n",
    "    \"\"\"\n",
    "    Function to solve part 2 of the puzzle for Day 2.\n",
    "    Args:\n",
    "        user_input (list[str]): The user input.\n",
    "    Returns:\n",
    "        int: The solution to the puzzle (part 2)\n",
    "    \"\"\"\n",
    "    # Parse user input\n",
    "    parsed_input = parse_day2_input(user_input)\n",
    "\n",
    "    return sum([is_report_safe_part2(report) for report in parsed_input])\n",
    "\n",
    "\n",
    "def solve_day2_puzzle(user_input: list[str], part: int):\n",
    "    \"\"\"\n",
    "    Function to solve the puzzle for Day 2.\n",
    "    Args:\n",
    "        user_input (list[str]): The user input.\n",
    "        part (int): The part of the puzzle to solve.\n",
    "    Returns:\n",
    "        int: The solution to the puzzle for the given part.\n",
    "    \"\"\"\n",
    "    if part == 1:\n",
    "        return solve_day2_puzzle_part1(user_input)\n",
    "    elif part == 2:\n",
    "        return solve_day2_puzzle_part2(user_input)\n",
    "    else:\n",
    "        raise ValueError(f\"Invalid value {part} for part. Part must be 1 or 2.\")\n"
   ]
  },
  {
   "cell_type": "markdown",
   "metadata": {},
   "source": [
    "### Part 1"
   ]
  },
  {
   "cell_type": "code",
   "execution_count": 2,
   "metadata": {},
   "outputs": [],
   "source": [
    "with open('../data/day2.txt') as f:\n",
    "    file = f.read().split('\\n')"
   ]
  },
  {
   "cell_type": "code",
   "execution_count": 3,
   "metadata": {},
   "outputs": [
    {
     "data": {
      "text/plain": [
       "269"
      ]
     },
     "execution_count": 3,
     "metadata": {},
     "output_type": "execute_result"
    }
   ],
   "source": [
    "solve_day2_puzzle(file, part=1)"
   ]
  },
  {
   "cell_type": "markdown",
   "metadata": {},
   "source": [
    "### Part 2"
   ]
  },
  {
   "cell_type": "code",
   "execution_count": 4,
   "metadata": {},
   "outputs": [
    {
     "data": {
      "text/plain": [
       "337"
      ]
     },
     "execution_count": 4,
     "metadata": {},
     "output_type": "execute_result"
    }
   ],
   "source": [
    "solve_day2_puzzle(file, part=2)"
   ]
  },
  {
   "cell_type": "code",
   "execution_count": null,
   "metadata": {},
   "outputs": [],
   "source": []
  }
 ],
 "metadata": {
  "kernelspec": {
   "display_name": "aoc23",
   "language": "python",
   "name": "aoc23"
  },
  "language_info": {
   "codemirror_mode": {
    "name": "ipython",
    "version": 3
   },
   "file_extension": ".py",
   "mimetype": "text/x-python",
   "name": "python",
   "nbconvert_exporter": "python",
   "pygments_lexer": "ipython3",
   "version": "3.12.0"
  }
 },
 "nbformat": 4,
 "nbformat_minor": 4
}
