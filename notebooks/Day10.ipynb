{
 "cells": [
  {
   "cell_type": "code",
   "execution_count": 1,
   "metadata": {},
   "outputs": [],
   "source": [
    "from collections import defaultdict"
   ]
  },
  {
   "cell_type": "code",
   "execution_count": 2,
   "metadata": {},
   "outputs": [],
   "source": [
    "with open('../data/day10.txt') as f:\n",
    "    user_input = f.read().split('\\n')"
   ]
  },
  {
   "cell_type": "code",
   "execution_count": 3,
   "metadata": {},
   "outputs": [],
   "source": [
    "test_input = '''89010123\n",
    "78121874\n",
    "87430965\n",
    "96549874\n",
    "45678903\n",
    "32019012\n",
    "01329801\n",
    "10456732'''.split('\\n')"
   ]
  },
  {
   "cell_type": "markdown",
   "metadata": {},
   "source": [
    "### Part 1"
   ]
  },
  {
   "cell_type": "code",
   "execution_count": 4,
   "metadata": {},
   "outputs": [],
   "source": [
    "def find_starts(array):\n",
    "    idxs = []\n",
    "    for i, row in enumerate(array):\n",
    "        for j, num in enumerate(row):\n",
    "            if num == '0':\n",
    "                idxs.append((i, j))\n",
    "    return idxs"
   ]
  },
  {
   "cell_type": "code",
   "execution_count": 5,
   "metadata": {},
   "outputs": [],
   "source": [
    "def trails(start, array):\n",
    "    m = len(array)\n",
    "    n = len(array[0])\n",
    "    stack = [[start]]\n",
    "    nines = defaultdict(int)\n",
    "\n",
    "    while stack:\n",
    "        path = stack.pop()\n",
    "        i, j = path[-1]\n",
    "        current = int(array[i][j])\n",
    "\n",
    "        if current == 9:\n",
    "            nines[(i, j)] += 1\n",
    "\n",
    "        if i > 0 and int(array[i-1][j]) == current + 1:\n",
    "            stack.append(path + [(i-1, j)])\n",
    "        if i < m - 1 and int(array[i+1][j]) == current + 1:\n",
    "            stack.append(path + [(i+1, j)])\n",
    "        if j > 0 and int(array[i][j-1]) == current + 1:\n",
    "            stack.append(path + [(i, j-1)])\n",
    "        if j < n - 1 and int(array[i][j+1]) == current + 1:\n",
    "            stack.append(path + [(i, j+1)])\n",
    "    \n",
    "    return nines"
   ]
  },
  {
   "cell_type": "code",
   "execution_count": 6,
   "metadata": {},
   "outputs": [],
   "source": [
    "total = 0\n",
    "rating = 0\n",
    "for idx in find_starts(test_input):\n",
    "    trails_dict = trails(idx, test_input)\n",
    "    total += len(trails_dict)\n",
    "    rating += sum(trails_dict.values())"
   ]
  },
  {
   "cell_type": "code",
   "execution_count": 7,
   "metadata": {},
   "outputs": [
    {
     "data": {
      "text/plain": [
       "(36, 81)"
      ]
     },
     "execution_count": 7,
     "metadata": {},
     "output_type": "execute_result"
    }
   ],
   "source": [
    "total, rating"
   ]
  },
  {
   "cell_type": "code",
   "execution_count": 8,
   "metadata": {},
   "outputs": [
    {
     "name": "stdout",
     "output_type": "stream",
     "text": [
      "15.4 ms ± 3.49 ms per loop (mean ± std. dev. of 7 runs, 10 loops each)\n"
     ]
    }
   ],
   "source": [
    "%%timeit\n",
    "total = 0\n",
    "rating = 0\n",
    "for idx in find_starts(user_input):\n",
    "    trails_dict = trails(idx, user_input)\n",
    "    total += len(trails_dict)\n",
    "    rating += sum(trails_dict.values())"
   ]
  },
  {
   "cell_type": "code",
   "execution_count": 10,
   "metadata": {},
   "outputs": [
    {
     "data": {
      "text/plain": [
       "(698, 1436)"
      ]
     },
     "execution_count": 10,
     "metadata": {},
     "output_type": "execute_result"
    }
   ],
   "source": [
    "total = 0\n",
    "rating = 0\n",
    "for idx in find_starts(user_input):\n",
    "    trails_dict = trails(idx, user_input)\n",
    "    total += len(trails_dict)\n",
    "    rating += sum(trails_dict.values())\n",
    "total, rating"
   ]
  },
  {
   "cell_type": "code",
   "execution_count": null,
   "metadata": {},
   "outputs": [],
   "source": []
  }
 ],
 "metadata": {
  "kernelspec": {
   "display_name": "aoc24",
   "language": "python",
   "name": "python3"
  },
  "language_info": {
   "codemirror_mode": {
    "name": "ipython",
    "version": 3
   },
   "file_extension": ".py",
   "mimetype": "text/x-python",
   "name": "python",
   "nbconvert_exporter": "python",
   "pygments_lexer": "ipython3",
   "version": "3.13.0"
  }
 },
 "nbformat": 4,
 "nbformat_minor": 4
}
