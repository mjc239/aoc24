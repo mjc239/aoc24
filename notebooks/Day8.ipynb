{
 "cells": [
  {
   "cell_type": "code",
   "execution_count": 1,
   "metadata": {},
   "outputs": [],
   "source": [
    "from collections import defaultdict\n",
    "from itertools import combinations"
   ]
  },
  {
   "cell_type": "code",
   "execution_count": 2,
   "metadata": {},
   "outputs": [],
   "source": [
    "with open('../data/day8.txt') as f:\n",
    "    user_input = f.read().split('\\n')"
   ]
  },
  {
   "cell_type": "code",
   "execution_count": 3,
   "metadata": {},
   "outputs": [],
   "source": [
    "test_input = '''............\n",
    "........0...\n",
    ".....0......\n",
    ".......0....\n",
    "....0.......\n",
    "......A.....\n",
    "............\n",
    "............\n",
    "........A...\n",
    ".........A..\n",
    "............\n",
    "............'''.split('\\n')"
   ]
  },
  {
   "cell_type": "code",
   "execution_count": 4,
   "metadata": {},
   "outputs": [],
   "source": [
    "def compute_antinodes(array):\n",
    "    m, n = len(array), len(array[0])\n",
    "\n",
    "    antinodes = set()\n",
    "\n",
    "    antennae = defaultdict(list)\n",
    "    for i in range(m):\n",
    "        for j in range(n):\n",
    "            if array[i][j] != '.':\n",
    "                antennae[array[i][j]].append((i, j))\n",
    "\n",
    "    for freq, ants in antennae.items():\n",
    "        for ant1, ant2 in combinations(ants, 2):\n",
    "            i1, j1 = ant1\n",
    "            i2, j2 = ant2\n",
    "            antinode_1 = (2*i1 - i2, 2*j1 - j2)\n",
    "            antinode_2 = (2*i2 - i1, 2*j2 - j1)\n",
    "            for antinode in [antinode_1, antinode_2]:\n",
    "                if 0 <= antinode[0] < m and 0 <= antinode[1] < n:\n",
    "                    antinodes.add(antinode)\n",
    "    \n",
    "    return antinodes\n",
    "                    "
   ]
  },
  {
   "cell_type": "code",
   "execution_count": 5,
   "metadata": {},
   "outputs": [],
   "source": [
    "antinodes = compute_antinodes(user_input)"
   ]
  },
  {
   "cell_type": "code",
   "execution_count": 6,
   "metadata": {},
   "outputs": [
    {
     "data": {
      "text/plain": [
       "273"
      ]
     },
     "execution_count": 6,
     "metadata": {},
     "output_type": "execute_result"
    }
   ],
   "source": [
    "len(antinodes)"
   ]
  },
  {
   "cell_type": "markdown",
   "metadata": {},
   "source": [
    "### Part 2"
   ]
  },
  {
   "cell_type": "code",
   "execution_count": 7,
   "metadata": {},
   "outputs": [],
   "source": [
    "def compute_antinodes_with_harmonics(array):\n",
    "    m, n = len(array), len(array[0])\n",
    "\n",
    "    antinodes = set()\n",
    "\n",
    "    antennae = defaultdict(list)\n",
    "    for i in range(m):\n",
    "        for j in range(n):\n",
    "            if array[i][j] != '.':\n",
    "                antennae[array[i][j]].append((i, j))\n",
    "\n",
    "    for freq, ants in antennae.items():\n",
    "        for ant1, ant2 in combinations(ants, 2):\n",
    "            i1, j1 = ant1\n",
    "            i2, j2 = ant2\n",
    "            v = (i2 - i1, j2 - j1)\n",
    "            s = max(m//abs(v[0])+1, n//abs(v[1])+1)\n",
    "            for k in range(-s, s+1):\n",
    "                antinode = (i2 + k*v[0], j2 + k*v[1])\n",
    "                if 0 <= antinode[0] < m and 0 <= antinode[1] < n:\n",
    "                    antinodes.add(antinode)\n",
    "    \n",
    "    return antinodes\n",
    "                    "
   ]
  },
  {
   "cell_type": "code",
   "execution_count": 8,
   "metadata": {},
   "outputs": [
    {
     "data": {
      "text/plain": [
       "34"
      ]
     },
     "execution_count": 8,
     "metadata": {},
     "output_type": "execute_result"
    }
   ],
   "source": [
    "len(compute_antinodes_with_harmonics(test_input))"
   ]
  },
  {
   "cell_type": "code",
   "execution_count": 9,
   "metadata": {},
   "outputs": [
    {
     "ename": "NameError",
     "evalue": "name 'compute_antinodes_2' is not defined",
     "output_type": "error",
     "traceback": [
      "\u001b[1;31m---------------------------------------------------------------------------\u001b[0m",
      "\u001b[1;31mNameError\u001b[0m                                 Traceback (most recent call last)",
      "Cell \u001b[1;32mIn[9], line 1\u001b[0m\n\u001b[1;32m----> 1\u001b[0m \u001b[38;5;28mlen\u001b[39m(\u001b[43mcompute_antinodes_2\u001b[49m(user_input))\n",
      "\u001b[1;31mNameError\u001b[0m: name 'compute_antinodes_2' is not defined"
     ]
    }
   ],
   "source": [
    "len(compute_antinodes_2(user_input))"
   ]
  },
  {
   "cell_type": "code",
   "execution_count": null,
   "metadata": {},
   "outputs": [],
   "source": []
  }
 ],
 "metadata": {
  "kernelspec": {
   "display_name": "aoc24",
   "language": "python",
   "name": "python3"
  },
  "language_info": {
   "codemirror_mode": {
    "name": "ipython",
    "version": 3
   },
   "file_extension": ".py",
   "mimetype": "text/x-python",
   "name": "python",
   "nbconvert_exporter": "python",
   "pygments_lexer": "ipython3",
   "version": "3.13.0"
  }
 },
 "nbformat": 4,
 "nbformat_minor": 4
}
