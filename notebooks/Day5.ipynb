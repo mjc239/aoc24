{
 "cells": [
  {
   "cell_type": "code",
   "execution_count": 1,
   "metadata": {},
   "outputs": [],
   "source": [
    "from collections import defaultdict\n",
    "from itertools import combinations"
   ]
  },
  {
   "cell_type": "code",
   "execution_count": 2,
   "metadata": {},
   "outputs": [],
   "source": [
    "with open('../data/day5.txt') as f:\n",
    "    user_input = f.read().split('\\n')"
   ]
  },
  {
   "cell_type": "markdown",
   "metadata": {},
   "source": [
    "### Part 1"
   ]
  },
  {
   "cell_type": "code",
   "execution_count": 3,
   "metadata": {},
   "outputs": [],
   "source": [
    "lists = []\n",
    "orders = defaultdict(list)\n",
    "for line in user_input:\n",
    "    if '|' in line:\n",
    "        num1, num2 = line.split('|')\n",
    "        orders[int(num1)].append(int(num2))\n",
    "    elif line == '':\n",
    "        continue\n",
    "    else:\n",
    "        lists.append([int(x) for x in line.split(',')])"
   ]
  },
  {
   "cell_type": "code",
   "execution_count": 4,
   "metadata": {},
   "outputs": [],
   "source": [
    "def is_line_ordered(line, orders):\n",
    "    for num1, num2 in combinations(line, 2):\n",
    "        if num1 in orders[num2]:\n",
    "            return False\n",
    "    return True\n",
    "\n",
    "total = 0\n",
    "for line in lists:\n",
    "    if is_line_ordered(line, orders):\n",
    "        total += line[len(line)//2] "
   ]
  },
  {
   "cell_type": "code",
   "execution_count": 5,
   "metadata": {},
   "outputs": [
    {
     "data": {
      "text/plain": [
       "6612"
      ]
     },
     "execution_count": 5,
     "metadata": {},
     "output_type": "execute_result"
    }
   ],
   "source": [
    "total"
   ]
  },
  {
   "cell_type": "markdown",
   "metadata": {},
   "source": [
    "### Part 2"
   ]
  },
  {
   "cell_type": "code",
   "execution_count": 6,
   "metadata": {},
   "outputs": [],
   "source": [
    "from graphlib import TopologicalSorter"
   ]
  },
  {
   "cell_type": "code",
   "execution_count": 7,
   "metadata": {},
   "outputs": [],
   "source": [
    "\n",
    "total = 0\n",
    "for line in lists:\n",
    "    if not is_line_ordered(line, orders):\n",
    "        these_orders = {k: [i for i in v if i in line] for k, v in orders.items() if k in line}\n",
    "        sorted_line = list(TopologicalSorter(these_orders).static_order())[::-1]\n",
    "        total += sorted_line[len(sorted_line)//2]"
   ]
  },
  {
   "cell_type": "code",
   "execution_count": 8,
   "metadata": {},
   "outputs": [
    {
     "data": {
      "text/plain": [
       "4944"
      ]
     },
     "execution_count": 8,
     "metadata": {},
     "output_type": "execute_result"
    }
   ],
   "source": [
    "total"
   ]
  }
 ],
 "metadata": {
  "kernelspec": {
   "display_name": "aoc24",
   "language": "python",
   "name": "python3"
  },
  "language_info": {
   "codemirror_mode": {
    "name": "ipython",
    "version": 3
   },
   "file_extension": ".py",
   "mimetype": "text/x-python",
   "name": "python",
   "nbconvert_exporter": "python",
   "pygments_lexer": "ipython3",
   "version": "3.13.0"
  }
 },
 "nbformat": 4,
 "nbformat_minor": 4
}
