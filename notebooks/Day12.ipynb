{
 "cells": [
  {
   "cell_type": "code",
   "execution_count": 1,
   "metadata": {},
   "outputs": [],
   "source": [
    "from itertools import combinations\n",
    "import networkx as nx\n",
    "import numpy as np"
   ]
  },
  {
   "cell_type": "code",
   "execution_count": 2,
   "metadata": {},
   "outputs": [],
   "source": [
    "with open('../data/day12.txt') as f:\n",
    "    user_input = f.read().split('\\n')"
   ]
  },
  {
   "cell_type": "code",
   "execution_count": 3,
   "metadata": {},
   "outputs": [],
   "source": [
    "test_input = '''RRRRIICCFF\n",
    "RRRRIICCCF\n",
    "VVRRRCCFFF\n",
    "VVRCCCJFFF\n",
    "VVVVCJJCFE\n",
    "VVIVCCJJEE\n",
    "VVIIICJJEE\n",
    "MIIIIIJJEE\n",
    "MIIISIJEEE\n",
    "MMMISSJEEE'''.split('\\n')"
   ]
  },
  {
   "cell_type": "markdown",
   "metadata": {},
   "source": [
    "### Part 1"
   ]
  },
  {
   "cell_type": "code",
   "execution_count": 4,
   "metadata": {},
   "outputs": [],
   "source": [
    "def compute_components(user_input):\n",
    "    graph = nx.Graph()\n",
    "\n",
    "    for i, row in enumerate(user_input):\n",
    "        for j, char in enumerate(row):\n",
    "            graph.add_node((i, j))\n",
    "            if i > 0 and user_input[i-1][j] == char:\n",
    "                graph.add_edge((i, j), (i-1, j))\n",
    "            if j > 0 and user_input[i][j-1] == char:\n",
    "                graph.add_edge((i, j), (i, j-1))\n",
    "\n",
    "    return list(nx.connected_components(graph)), set(graph.edges)"
   ]
  },
  {
   "cell_type": "code",
   "execution_count": 5,
   "metadata": {},
   "outputs": [],
   "source": [
    "def compute_price(user_input):\n",
    "    components, edges = compute_components(user_input)\n",
    "\n",
    "    price = 0\n",
    "    for component in components:\n",
    "        area = len(component)\n",
    "        num_edges = sum([1 for (i, j) in combinations(component, 2) if (i, j) in edges or (j, i) in edges])\n",
    "        num_borders = 4*area - 2*num_edges\n",
    "        price += area*num_borders\n",
    "    return price\n"
   ]
  },
  {
   "cell_type": "code",
   "execution_count": 6,
   "metadata": {},
   "outputs": [
    {
     "data": {
      "text/plain": [
       "1930"
      ]
     },
     "execution_count": 6,
     "metadata": {},
     "output_type": "execute_result"
    }
   ],
   "source": [
    "compute_price(test_input)"
   ]
  },
  {
   "cell_type": "code",
   "execution_count": 7,
   "metadata": {},
   "outputs": [
    {
     "data": {
      "text/plain": [
       "1457298"
      ]
     },
     "execution_count": 7,
     "metadata": {},
     "output_type": "execute_result"
    }
   ],
   "source": [
    "compute_price(user_input)\n"
   ]
  },
  {
   "cell_type": "markdown",
   "metadata": {},
   "source": [
    "### Part 2"
   ]
  },
  {
   "cell_type": "code",
   "execution_count": 8,
   "metadata": {},
   "outputs": [],
   "source": [
    "def num_sides(component):\n",
    "    arr = np.array(list(component))\n",
    "    miny, minx = arr.min(axis=0)\n",
    "    maxy, maxx = arr.max(axis=0)    \n",
    "    n_sides = 0\n",
    "\n",
    "    for i in range(miny-1, maxy+1):\n",
    "        for j in range(minx-1, maxx+1):\n",
    "            square = set([(i, j), (i+1, j), (i, j+1), (i+1, j+1)])\n",
    "            intersection = square.intersection(component)\n",
    "            if len(intersection) % 2 == 1:\n",
    "                n_sides += 1\n",
    "            elif len(intersection) == 2 and (i+1, j) in component and (i, j+1) in component:\n",
    "                n_sides += 2\n",
    "            elif len(intersection) == 2 and (i, j) in component and (i+1, j+1) in component:\n",
    "                n_sides += 2\n",
    "    return n_sides\n"
   ]
  },
  {
   "cell_type": "code",
   "execution_count": 9,
   "metadata": {},
   "outputs": [],
   "source": [
    "def compute_price_2(user_input):\n",
    "    components, _ = compute_components(user_input)\n",
    "\n",
    "    return sum([num_sides(component)*len(component) for component in components])"
   ]
  },
  {
   "cell_type": "code",
   "execution_count": 10,
   "metadata": {},
   "outputs": [
    {
     "data": {
      "text/plain": [
       "1206"
      ]
     },
     "execution_count": 10,
     "metadata": {},
     "output_type": "execute_result"
    }
   ],
   "source": [
    "compute_price_2(test_input)"
   ]
  },
  {
   "cell_type": "code",
   "execution_count": 11,
   "metadata": {},
   "outputs": [
    {
     "data": {
      "text/plain": [
       "921636"
      ]
     },
     "execution_count": 11,
     "metadata": {},
     "output_type": "execute_result"
    }
   ],
   "source": [
    "compute_price_2(user_input)"
   ]
  },
  {
   "cell_type": "code",
   "execution_count": null,
   "metadata": {},
   "outputs": [],
   "source": []
  }
 ],
 "metadata": {
  "kernelspec": {
   "display_name": "aoc24",
   "language": "python",
   "name": "python3"
  },
  "language_info": {
   "codemirror_mode": {
    "name": "ipython",
    "version": 3
   },
   "file_extension": ".py",
   "mimetype": "text/x-python",
   "name": "python",
   "nbconvert_exporter": "python",
   "pygments_lexer": "ipython3",
   "version": "3.13.0"
  }
 },
 "nbformat": 4,
 "nbformat_minor": 4
}
