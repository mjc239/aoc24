{
 "cells": [
  {
   "cell_type": "code",
   "execution_count": 1,
   "metadata": {},
   "outputs": [],
   "source": [
    "import re\n",
    "import numpy as np\n",
    "import matplotlib.pyplot as plt"
   ]
  },
  {
   "cell_type": "code",
   "execution_count": 2,
   "metadata": {},
   "outputs": [],
   "source": [
    "with open('../data/day6.txt') as f:\n",
    "    user_input = f.read().split('\\n')"
   ]
  },
  {
   "cell_type": "code",
   "execution_count": 3,
   "metadata": {},
   "outputs": [],
   "source": [
    "test_input = '''....#.....\n",
    ".........#\n",
    "..........\n",
    "..#.......\n",
    ".......#..\n",
    "..........\n",
    ".#..^.....\n",
    "........#.\n",
    "#.........\n",
    "......#...'''.split('\\n')"
   ]
  },
  {
   "cell_type": "markdown",
   "metadata": {},
   "source": [
    "### Part 1"
   ]
  },
  {
   "cell_type": "code",
   "execution_count": 4,
   "metadata": {},
   "outputs": [],
   "source": [
    "def escape_path(row, col, direction, array):\n",
    "    m = len(array)\n",
    "    n = len(array[0])\n",
    "\n",
    "    visited = {(row, col, direction)}\n",
    "\n",
    "    while True:\n",
    "        match direction:\n",
    "            case '^':\n",
    "                if array[row-1][col] == '#':\n",
    "                   direction = '>'\n",
    "                else:\n",
    "                    row = row - 1\n",
    "            case '>':\n",
    "                if array[row][col+1] == '#':\n",
    "                    direction = 'v'\n",
    "                else:\n",
    "                    col = col + 1\n",
    "            case 'v':\n",
    "                if array[row+1][col] == '#':\n",
    "                    direction = '<'\n",
    "                else:\n",
    "                    row = row + 1\n",
    "            case '<':\n",
    "                if array[row][col-1] == '#':\n",
    "                    direction = '^'\n",
    "                else:\n",
    "                    col = col - 1\n",
    "\n",
    "        if (row, col, direction) in visited:\n",
    "            return (False, visited)\n",
    "        \n",
    "        visited.add((row, col, direction))\n",
    "\n",
    "        if direction == '^' and row == 0:\n",
    "            return (True, visited)\n",
    "        if direction == '>' and col == n-1:\n",
    "            return (True, visited)\n",
    "        if direction == 'v' and row == m-1:\n",
    "            return (True, visited)\n",
    "        if direction == '<' and col == 0:\n",
    "            return (True, visited)\n",
    "            "
   ]
  },
  {
   "cell_type": "code",
   "execution_count": 5,
   "metadata": {},
   "outputs": [],
   "source": [
    "def find_start(array):\n",
    "    for i, row in enumerate(array):\n",
    "        for j, cell in enumerate(row):\n",
    "            if cell == '^':\n",
    "                return (i, j)"
   ]
  },
  {
   "cell_type": "code",
   "execution_count": 6,
   "metadata": {},
   "outputs": [],
   "source": [
    "def visited_cells(array):\n",
    "    start_row, start_col = find_start(array)\n",
    "    start_direction = array[start_row][start_col]\n",
    "\n",
    "    _ , visited = escape_path(start_row, start_col, start_direction, array)\n",
    "    unique_visited = set([(row, col) for row, col, _ in visited])\n",
    "\n",
    "    return unique_visited"
   ]
  },
  {
   "cell_type": "code",
   "execution_count": 7,
   "metadata": {},
   "outputs": [
    {
     "data": {
      "text/plain": [
       "41"
      ]
     },
     "execution_count": 7,
     "metadata": {},
     "output_type": "execute_result"
    }
   ],
   "source": [
    "len(visited_cells(test_input))"
   ]
  },
  {
   "cell_type": "code",
   "execution_count": 8,
   "metadata": {},
   "outputs": [
    {
     "data": {
      "text/plain": [
       "4515"
      ]
     },
     "execution_count": 8,
     "metadata": {},
     "output_type": "execute_result"
    }
   ],
   "source": [
    "len(visited_cells(user_input))"
   ]
  },
  {
   "cell_type": "code",
   "execution_count": 9,
   "metadata": {},
   "outputs": [],
   "source": [
    "visited_array = np.array([[int(char.replace('.', '0').replace('#', '1').replace('^', '2')) for char in row] for row in user_input])\n",
    "for row, col in visited_cells(user_input):\n",
    "    visited_array[row, col] = 2"
   ]
  },
  {
   "cell_type": "code",
   "execution_count": 10,
   "metadata": {},
   "outputs": [
    {
     "data": {
      "text/plain": [
       "<matplotlib.image.AxesImage at 0x23da24f0050>"
      ]
     },
     "execution_count": 10,
     "metadata": {},
     "output_type": "execute_result"
    },
    {
     "data": {
      "image/png": "[encoded data removed]",
      "text/plain": [
       "<Figure size 1000x1000 with 1 Axes>"
      ]
     },
     "metadata": {},
     "output_type": "display_data"
    }
   ],
   "source": [
    "fig, ax = plt.subplots(figsize=(10, 10))\n",
    "ax.imshow(visited_array, cmap='viridis')"
   ]
  },
  {
   "cell_type": "markdown",
   "metadata": {},
   "source": [
    "### Part 2"
   ]
  },
  {
   "cell_type": "code",
   "execution_count": 11,
   "metadata": {},
   "outputs": [],
   "source": [
    "from tqdm import tqdm"
   ]
  },
  {
   "cell_type": "code",
   "execution_count": 17,
   "metadata": {},
   "outputs": [],
   "source": [
    "def number_of_cycles(user_input):\n",
    "    total = 0\n",
    "\n",
    "    start_row, start_col = find_start(user_input)\n",
    "    start_direction = user_input[start_row][start_col]\n",
    "\n",
    "    _, visited_with_dirs = escape_path(start_row, start_col, start_direction, user_input)\n",
    "    visited = set([(row, col) for row, col, _ in visited_with_dirs])\n",
    "\n",
    "    for i, j in tqdm(visited):\n",
    "        if user_input[i][j] in ['^', '>', 'v', '<']:\n",
    "            continue\n",
    "        else:\n",
    "            copy_array = user_input.copy()\n",
    "            copy_array[i] = copy_array[i][:j] + '#' + copy_array[i][j+1:]\n",
    "            if not escape_path(start_row, start_col, start_direction, copy_array)[0]:\n",
    "                total += 1\n",
    "    return total"
   ]
  },
  {
   "cell_type": "code",
   "execution_count": 18,
   "metadata": {},
   "outputs": [
    {
     "name": "stderr",
     "output_type": "stream",
     "text": [
      "100%|██████████| 41/41 [00:00<00:00, 26206.41it/s]\n"
     ]
    },
    {
     "data": {
      "text/plain": [
       "6"
      ]
     },
     "execution_count": 18,
     "metadata": {},
     "output_type": "execute_result"
    }
   ],
   "source": [
    "number_of_cycles(test_input)"
   ]
  },
  {
   "cell_type": "code",
   "execution_count": 19,
   "metadata": {},
   "outputs": [
    {
     "name": "stderr",
     "output_type": "stream",
     "text": [
      "  0%|          | 0/4515 [00:00<?, ?it/s]"
     ]
    },
    {
     "name": "stderr",
     "output_type": "stream",
     "text": [
      "100%|██████████| 4515/4515 [00:10<00:00, 432.03it/s]\n"
     ]
    },
    {
     "data": {
      "text/plain": [
       "1309"
      ]
     },
     "execution_count": 19,
     "metadata": {},
     "output_type": "execute_result"
    }
   ],
   "source": [
    "number_of_cycles(user_input)"
   ]
  },
  {
   "cell_type": "code",
   "execution_count": null,
   "metadata": {},
   "outputs": [],
   "source": []
  }
 ],
 "metadata": {
  "kernelspec": {
   "display_name": "aoc24",
   "language": "python",
   "name": "python3"
  },
  "language_info": {
   "codemirror_mode": {
    "name": "ipython",
    "version": 3
   },
   "file_extension": ".py",
   "mimetype": "text/x-python",
   "name": "python",
   "nbconvert_exporter": "python",
   "pygments_lexer": "ipython3",
   "version": "3.13.0"
  }
 },
 "nbformat": 4,
 "nbformat_minor": 4
}
